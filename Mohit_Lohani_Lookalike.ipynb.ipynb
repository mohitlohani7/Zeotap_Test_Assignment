{
 "cells": [
  {
   "cell_type": "code",
   "execution_count": 1,
   "id": "861b7947-f091-43f6-b6fc-37f2f6693b5f",
   "metadata": {},
   "outputs": [
    {
     "data": {
      "text/plain": [
       "(  CustomerID        CustomerName         Region  SignupDate\n",
       " 0      C0001    Lawrence Carroll  South America  2022-07-10\n",
       " 1      C0002      Elizabeth Lutz           Asia  2022-02-13\n",
       " 2      C0003      Michael Rivera  South America  2024-03-07\n",
       " 3      C0004  Kathleen Rodriguez  South America  2022-10-09\n",
       " 4      C0005         Laura Weber           Asia  2022-08-15,\n",
       "   ProductID              ProductName     Category   Price\n",
       " 0      P001     ActiveWear Biography        Books  169.30\n",
       " 1      P002    ActiveWear Smartwatch  Electronics  346.30\n",
       " 2      P003  ComfortLiving Biography        Books   44.12\n",
       " 3      P004            BookWorld Rug   Home Decor   95.69\n",
       " 4      P005          TechPro T-Shirt     Clothing  429.31,\n",
       "   TransactionID CustomerID ProductID      TransactionDate  Quantity  \\\n",
       " 0        T00001      C0199      P067  2024-08-25 12:38:23         1   \n",
       " 1        T00112      C0146      P067  2024-05-27 22:23:54         1   \n",
       " 2        T00166      C0127      P067  2024-04-25 07:38:55         1   \n",
       " 3        T00272      C0087      P067  2024-03-26 22:55:37         2   \n",
       " 4        T00363      C0070      P067  2024-03-21 15:10:10         3   \n",
       " \n",
       "    TotalValue   Price  \n",
       " 0      300.68  300.68  \n",
       " 1      300.68  300.68  \n",
       " 2      300.68  300.68  \n",
       " 3      601.36  300.68  \n",
       " 4      902.04  300.68  )"
      ]
     },
     "execution_count": 1,
     "metadata": {},
     "output_type": "execute_result"
    }
   ],
   "source": [
    "import pandas as pd\n",
    "\n",
    "customers_path = \"C:\\\\Users\\\\DELL\\\\Downloads\\\\Customers.csv\" \n",
    "products_path = \"C:\\\\Users\\\\DELL\\\\Downloads\\\\Products.csv\"\n",
    "transactions_path =  \"C:\\\\Users\\\\DELL\\\\Downloads\\\\Transactions.csv\"\n",
    "customers_df = pd.read_csv(customers_path)\n",
    "products_df = pd.read_csv(products_path)\n",
    "transactions_df = pd.read_csv(transactions_path)\n",
    "\n",
    "customers_df_head = customers_df.head()\n",
    "products_df_head = products_df.head()\n",
    "transactions_df_head = transactions_df.head()\n",
    "\n",
    "customers_df_head, products_df_head, transactions_df_head\n"
   ]
  },
  {
   "cell_type": "code",
   "execution_count": null,
   "id": "02e9c9fd-1a50-4303-bc9d-65d32ae5bd3f",
   "metadata": {},
   "outputs": [],
   "source": []
  }
 ],
 "metadata": {
  "kernelspec": {
   "display_name": "Python 3 (ipykernel)",
   "language": "python",
   "name": "python3"
  },
  "language_info": {
   "codemirror_mode": {
    "name": "ipython",
    "version": 3
   },
   "file_extension": ".py",
   "mimetype": "text/x-python",
   "name": "python",
   "nbconvert_exporter": "python",
   "pygments_lexer": "ipython3",
   "version": "3.12.0"
  }
 },
 "nbformat": 4,
 "nbformat_minor": 5
}
